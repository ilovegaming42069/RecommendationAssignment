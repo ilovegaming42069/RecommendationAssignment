{
 "cells": [
  {
   "cell_type": "code",
   "execution_count": 1,
   "id": "132160d1",
   "metadata": {},
   "outputs": [],
   "source": [
    "import pandas as pd\n",
    "from math import sqrt"
   ]
  },
  {
   "cell_type": "code",
   "execution_count": 2,
   "id": "677c5888",
   "metadata": {},
   "outputs": [
    {
     "name": "stdout",
     "output_type": "stream",
     "text": [
      "<class 'pandas.core.frame.DataFrame'>\n",
      "RangeIndex: 9742 entries, 0 to 9741\n",
      "Data columns (total 3 columns):\n",
      " #   Column   Non-Null Count  Dtype \n",
      "---  ------   --------------  ----- \n",
      " 0   movieId  9742 non-null   int64 \n",
      " 1   title    9742 non-null   object\n",
      " 2   genres   9742 non-null   object\n",
      "dtypes: int64(1), object(2)\n",
      "memory usage: 228.5+ KB\n",
      "None\n"
     ]
    }
   ],
   "source": [
    "movies_df = pd.read_csv('movies.csv')\n",
    "ratings_df = pd.read_csv('ratings.csv')\n",
    "print(movies_df.info())"
   ]
  },
  {
   "cell_type": "code",
   "execution_count": 3,
   "id": "b2774ed5",
   "metadata": {},
   "outputs": [
    {
     "name": "stdout",
     "output_type": "stream",
     "text": [
      "                      title  rating\n",
      "0          Toy Story (1995)     2.0\n",
      "1            Jumanji (1995)     1.0\n",
      "2   Grumpier Old Men (1995)     3.0\n",
      "3  Waiting to Exhale (1995)     5.0\n",
      "4     Pie in the Sky (1996)     4.5\n"
     ]
    }
   ],
   "source": [
    "userInput = [{'title':'Toy Story (1995)', 'rating':2},\n",
    "             {'title':'Jumanji (1995)', 'rating':1},\n",
    "             {'title':'Grumpier Old Men (1995)', 'rating':3},\n",
    "             {'title':'Waiting to Exhale (1995)', 'rating':5},\n",
    "             {'title':'Pie in the Sky (1996)', 'rating':4.5}]\n",
    "inputMovies = pd.DataFrame(userInput)\n",
    "print(inputMovies)"
   ]
  },
  {
   "cell_type": "code",
   "execution_count": 5,
   "id": "98ea9aa3",
   "metadata": {},
   "outputs": [
    {
     "name": "stdout",
     "output_type": "stream",
     "text": [
      "   movieId                     title  rating\n",
      "0        1          Toy Story (1995)     2.0\n",
      "1        2            Jumanji (1995)     1.0\n",
      "2        3   Grumpier Old Men (1995)     3.0\n",
      "3        4  Waiting to Exhale (1995)     5.0\n",
      "4      129     Pie in the Sky (1996)     4.5\n"
     ]
    }
   ],
   "source": [
    "inputId = movies_df[movies_df['title'].isin(inputMovies['title'].tolist())]\n",
    "inputMovies = pd.merge(inputId, inputMovies)\n",
    "inputMovies = inputMovies[['movieId','title','rating']]\n",
    "print(inputMovies)"
   ]
  },
  {
   "cell_type": "code",
   "execution_count": 6,
   "id": "d1786118",
   "metadata": {},
   "outputs": [
    {
     "name": "stdout",
     "output_type": "stream",
     "text": [
      "         userId  rating  timestamp\n",
      "movieId                           \n",
      "1           215     215        215\n",
      "2           110     110        110\n",
      "3            52      52         52\n",
      "4             7       7          7\n",
      "129           1       1          1\n"
     ]
    }
   ],
   "source": [
    "userSubset = ratings_df[ratings_df['movieId'].isin(inputMovies['movieId'].tolist())]\n",
    "print(userSubset.groupby('movieId').count())"
   ]
  },
  {
   "cell_type": "code",
   "execution_count": 7,
   "id": "d51d8072",
   "metadata": {},
   "outputs": [
    {
     "name": "stdout",
     "output_type": "stream",
     "text": [
      "[(6,      userId  movieId  rating  timestamp\n",
      "560       6        2     4.0  845553522\n",
      "561       6        3     5.0  845554296\n",
      "562       6        4     3.0  845554349), (19,       userId  movieId  rating  timestamp\n",
      "2274      19        1     4.0  965705637\n",
      "2275      19        2     3.0  965704331\n",
      "2276      19        3     3.0  965707636), (68,        userId  movieId  rating   timestamp\n",
      "10360      68        1     2.5  1158531426\n",
      "10361      68        2     2.5  1158532776\n",
      "10362      68        3     2.0  1158533415), (91,        userId  movieId  rating   timestamp\n",
      "14121      91        1     4.0  1112713037\n",
      "14122      91        2     3.0  1112713392\n",
      "14123      91        3     3.0  1112712323), (169,        userId  movieId  rating   timestamp\n",
      "24321     169        1     4.5  1059427918\n",
      "24322     169        2     4.0  1078284713\n",
      "24323     169        3     5.0  1078284750)]\n"
     ]
    },
    {
     "name": "stderr",
     "output_type": "stream",
     "text": [
      "C:\\Users\\aakma\\AppData\\Local\\Temp\\ipykernel_18008\\1584179461.py:8: FutureWarning: In a future version of pandas, a length 1 tuple will be returned when iterating over a groupby with a grouper equal to a list of length 1. Don't supply a list with a single grouper to avoid this warning.\n",
      "  userSubsetGroup = sorted(userSubsetGroup, key=take_5_elem, reverse=True)\n"
     ]
    }
   ],
   "source": [
    "userSubsetGroup = userSubset.groupby(['userId'])\n",
    "\n",
    "def take_5_elem(x):\n",
    "    # print (len(x[1]))\n",
    "    return len(x[1])\n",
    "    \n",
    "\n",
    "userSubsetGroup = sorted(userSubsetGroup, key=take_5_elem, reverse=True)\n",
    "\n",
    "userSubsetGroup = userSubsetGroup[0:100]\n",
    "print(userSubsetGroup[0:5])"
   ]
  },
  {
   "cell_type": "code",
   "execution_count": 8,
   "id": "a3e2ce9f",
   "metadata": {},
   "outputs": [],
   "source": [
    "pearsonCorrelationDict = {}\n",
    "\n",
    "for name, group in userSubsetGroup:\n",
    "\n",
    "    group = group.sort_values(by='movieId')\n",
    "    inputMovies = inputMovies.sort_values(by='movieId')\n",
    "\n",
    "    nRatings = len(group)\n",
    "\n",
    "    temp_df = inputMovies[inputMovies['movieId'].isin(group['movieId'].tolist())]\n",
    "\n",
    "    tempRatingList = temp_df['rating'].tolist()\n",
    "   \n",
    "    tempGroupList = group['rating'].tolist()\n",
    "   \n",
    "    \n",
    "    Sxx = sum([i**2 for i in tempRatingList]) - pow(sum(tempRatingList),2)/float(nRatings)\n",
    "    Syy = sum([i**2 for i in tempGroupList]) - pow(sum(tempGroupList),2)/float(nRatings)\n",
    "    Sxy = sum( i*j for i, j in zip(tempRatingList, tempGroupList)) - sum(tempRatingList)*sum(tempGroupList)/float(nRatings)\n",
    "\n",
    "    if Sxx != 0 and Syy != 0:\n",
    "        pearsonCorrelationDict[name] = Sxy/sqrt(Sxx*Syy)\n",
    "    else:\n",
    "        pearsonCorrelationDict[name] = 0"
   ]
  },
  {
   "cell_type": "code",
   "execution_count": 9,
   "id": "94f864f9",
   "metadata": {},
   "outputs": [
    {
     "name": "stdout",
     "output_type": "stream",
     "text": [
      "   similarityIndex  userId\n",
      "0        -0.500000       6\n",
      "1         0.000000      19\n",
      "2        -0.866025      68\n",
      "3         0.000000      91\n",
      "4         1.000000     169\n"
     ]
    }
   ],
   "source": [
    "pearsonDF = pd.DataFrame.from_dict(pearsonCorrelationDict, orient='index')\n",
    "pearsonDF.columns = ['similarityIndex']\n",
    "pearsonDF['userId'] = pearsonDF.index\n",
    "pearsonDF.index = range(len(pearsonDF))\n",
    "print(pearsonDF.head())"
   ]
  },
  {
   "cell_type": "code",
   "execution_count": 10,
   "id": "d2084807",
   "metadata": {},
   "outputs": [
    {
     "name": "stdout",
     "output_type": "stream",
     "text": [
      "    similarityIndex  userId\n",
      "70              1.0     434\n",
      "86              1.0     570\n",
      "56              1.0     304\n",
      "55              1.0     298\n",
      "78              1.0     501\n"
     ]
    }
   ],
   "source": [
    "topUsers=pearsonDF.sort_values(by='similarityIndex', ascending=False)[0:50]\n",
    "print(topUsers.head())"
   ]
  },
  {
   "cell_type": "code",
   "execution_count": 11,
   "id": "87345667",
   "metadata": {},
   "outputs": [
    {
     "name": "stdout",
     "output_type": "stream",
     "text": [
      "    similarityIndex  userId  movieId  rating   timestamp\n",
      "0               1.0     434        1     4.0  1270604402\n",
      "1               1.0     434        2     2.5  1271039378\n",
      "2               1.0     434        6     4.0  1270603905\n",
      "3               1.0     434       10     3.5  1270606683\n",
      "4               1.0     434       32     3.5  1270604323\n",
      "..              ...     ...      ...     ...         ...\n",
      "95              1.0     434     2011     3.5  1270606698\n",
      "96              1.0     434     2012     3.5  1270606822\n",
      "97              1.0     434     2028     5.0  1270606647\n",
      "98              1.0     434     2054     3.5  1271039349\n",
      "99              1.0     434     2115     4.5  1270606806\n",
      "\n",
      "[100 rows x 5 columns]\n"
     ]
    }
   ],
   "source": [
    "topUsersRating=topUsers.merge(ratings_df, left_on='userId', right_on='userId', how='inner')\n",
    "print(topUsersRating.head(100))"
   ]
  },
  {
   "cell_type": "code",
   "execution_count": 12,
   "id": "169e58fb",
   "metadata": {},
   "outputs": [
    {
     "name": "stdout",
     "output_type": "stream",
     "text": [
      "   similarityIndex  userId  movieId  rating   timestamp  weightedRating\n",
      "0              1.0     434        1     4.0  1270604402             4.0\n",
      "1              1.0     434        2     2.5  1271039378             2.5\n",
      "2              1.0     434        6     4.0  1270603905             4.0\n",
      "3              1.0     434       10     3.5  1270606683             3.5\n",
      "4              1.0     434       32     3.5  1270604323             3.5\n"
     ]
    }
   ],
   "source": [
    "topUsersRating['weightedRating'] = topUsersRating['similarityIndex']*topUsersRating['rating']\n",
    "print(topUsersRating.head())"
   ]
  },
  {
   "cell_type": "code",
   "execution_count": 13,
   "id": "3003349b",
   "metadata": {},
   "outputs": [
    {
     "name": "stdout",
     "output_type": "stream",
     "text": [
      "         sum_similarityIndex  sum_weightedRating\n",
      "movieId                                         \n",
      "1                  29.066000          119.208951\n",
      "2                  29.066000           88.057021\n",
      "3                   7.066000           29.580293\n",
      "5                   5.949281           16.398562\n",
      "6                  11.193352           43.243720\n"
     ]
    }
   ],
   "source": [
    "tempTopUsersRating = topUsersRating.groupby('movieId').sum()[['similarityIndex','weightedRating']]\n",
    "tempTopUsersRating.columns = ['sum_similarityIndex','sum_weightedRating']\n",
    "print(tempTopUsersRating.head())"
   ]
  },
  {
   "cell_type": "code",
   "execution_count": 14,
   "id": "e2c4cc34",
   "metadata": {},
   "outputs": [
    {
     "name": "stdout",
     "output_type": "stream",
     "text": [
      "         weighted average recommendation score  movieId\n",
      "movieId                                                \n",
      "1                                     4.101319        1\n",
      "2                                     3.029554        2\n",
      "3                                     4.186286        3\n",
      "5                                     2.756394        5\n",
      "6                                     3.863340        6\n",
      "7                                     3.255710        7\n",
      "8                                     3.000000        8\n",
      "9                                     3.000000        9\n",
      "10                                    3.437303       10\n",
      "11                                    3.735441       11\n"
     ]
    }
   ],
   "source": [
    "recommendation_df = pd.DataFrame()\n",
    "recommendation_df['weighted average recommendation score'] = tempTopUsersRating['sum_weightedRating']/tempTopUsersRating['sum_similarityIndex']\n",
    "recommendation_df['movieId'] = tempTopUsersRating.index\n",
    "print(recommendation_df.head(10))"
   ]
  },
  {
   "cell_type": "code",
   "execution_count": 15,
   "id": "9f2299a1",
   "metadata": {},
   "outputs": [
    {
     "name": "stdout",
     "output_type": "stream",
     "text": [
      "         weighted average recommendation score  movieId\n",
      "movieId                                                \n",
      "89904                                      5.0    89904\n",
      "5416                                       5.0     5416\n",
      "5034                                       5.0     5034\n",
      "5666                                       5.0     5666\n",
      "38304                                      5.0    38304\n",
      "...                                        ...      ...\n",
      "184471                                     NaN   184471\n",
      "185029                                     NaN   185029\n",
      "185435                                     NaN   185435\n",
      "187593                                     NaN   187593\n",
      "188301                                     NaN   188301\n",
      "\n",
      "[5790 rows x 2 columns]\n"
     ]
    }
   ],
   "source": [
    "recommendation_df = recommendation_df.sort_values(by='weighted average recommendation score', ascending=False)\n",
    "print(recommendation_df)"
   ]
  },
  {
   "cell_type": "code",
   "execution_count": 16,
   "id": "d30e3337",
   "metadata": {},
   "outputs": [
    {
     "name": "stdout",
     "output_type": "stream",
     "text": [
      "      movieId                               title  \\\n",
      "4           5  Father of the Bride Part II (1995)   \n",
      "5           6                         Heat (1995)   \n",
      "6           7                      Sabrina (1995)   \n",
      "7           8                 Tom and Huck (1995)   \n",
      "8           9                 Sudden Death (1995)   \n",
      "...       ...                                 ...   \n",
      "9702   185135   Sherlock - A Study in Pink (2010)   \n",
      "9703   185435              Game Over, Man! (2018)   \n",
      "9709   187593                   Deadpool 2 (2018)   \n",
      "9710   187595      Solo: A Star Wars Story (2018)   \n",
      "9713   188301         Ant-Man and the Wasp (2018)   \n",
      "\n",
      "                                      genres  \n",
      "4                                     Comedy  \n",
      "5                      Action|Crime|Thriller  \n",
      "6                             Comedy|Romance  \n",
      "7                         Adventure|Children  \n",
      "8                                     Action  \n",
      "...                                      ...  \n",
      "9702                                   Crime  \n",
      "9703                           Action|Comedy  \n",
      "9709                    Action|Comedy|Sci-Fi  \n",
      "9710        Action|Adventure|Children|Sci-Fi  \n",
      "9713  Action|Adventure|Comedy|Fantasy|Sci-Fi  \n",
      "\n",
      "[5787 rows x 3 columns]\n"
     ]
    }
   ],
   "source": [
    "recommended_movie=movies_df.loc[movies_df['movieId'].isin(recommendation_df['movieId'])]\n",
    "recommended_movie=recommended_movie.loc[~recommended_movie.movieId.isin(userSubset['movieId'])]\n",
    "print(recommended_movie)"
   ]
  },
  {
   "cell_type": "code",
   "execution_count": null,
   "id": "6708b259",
   "metadata": {},
   "outputs": [],
   "source": []
  }
 ],
 "metadata": {
  "kernelspec": {
   "display_name": "Python 3 (ipykernel)",
   "language": "python",
   "name": "python3"
  },
  "language_info": {
   "codemirror_mode": {
    "name": "ipython",
    "version": 3
   },
   "file_extension": ".py",
   "mimetype": "text/x-python",
   "name": "python",
   "nbconvert_exporter": "python",
   "pygments_lexer": "ipython3",
   "version": "3.11.4"
  }
 },
 "nbformat": 4,
 "nbformat_minor": 5
}
